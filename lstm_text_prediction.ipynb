{
  "cells": [
    {
      "cell_type": "code",
      "source": [
        "pip install PyMuPDF"
      ],
      "metadata": {
        "colab": {
          "base_uri": "https://localhost:8080/"
        },
        "id": "5kLU2sqW1O-P",
        "outputId": "6aba7e36-09b7-49a2-8394-328c7f7ed95e"
      },
      "id": "5kLU2sqW1O-P",
      "execution_count": 2,
      "outputs": [
        {
          "output_type": "stream",
          "name": "stdout",
          "text": [
            "Collecting PyMuPDF\n",
            "  Downloading pymupdf-1.25.5-cp39-abi3-manylinux2014_x86_64.manylinux_2_17_x86_64.whl.metadata (3.4 kB)\n",
            "Downloading pymupdf-1.25.5-cp39-abi3-manylinux2014_x86_64.manylinux_2_17_x86_64.whl (20.0 MB)\n",
            "\u001b[2K   \u001b[90m━━━━━━━━━━━━━━━━━━━━━━━━━━━━━━━━━━━━━━━━\u001b[0m \u001b[32m20.0/20.0 MB\u001b[0m \u001b[31m28.6 MB/s\u001b[0m eta \u001b[36m0:00:00\u001b[0m\n",
            "\u001b[?25hInstalling collected packages: PyMuPDF\n",
            "Successfully installed PyMuPDF-1.25.5\n"
          ]
        }
      ]
    },
    {
      "cell_type": "markdown",
      "id": "4a1dfdd5-8b31-4f78-905f-1c62a067bb95",
      "metadata": {
        "id": "4a1dfdd5-8b31-4f78-905f-1c62a067bb95"
      },
      "source": [
        "## Extracción del texto"
      ]
    },
    {
      "cell_type": "code",
      "execution_count": 3,
      "id": "427abc31-bedf-4df4-aa32-e848af9b8013",
      "metadata": {
        "id": "427abc31-bedf-4df4-aa32-e848af9b8013"
      },
      "outputs": [],
      "source": [
        "import fitz"
      ]
    },
    {
      "cell_type": "code",
      "execution_count": 4,
      "id": "7d4401a4-b57b-4cef-a665-4c385ae0fd87",
      "metadata": {
        "id": "7d4401a4-b57b-4cef-a665-4c385ae0fd87"
      },
      "outputs": [],
      "source": [
        "def extract_text_from_pdf(pdf_path):\n",
        "    doc = fitz.open(pdf_path)\n",
        "    text = \"\"\n",
        "    for page in doc:\n",
        "        text += page.get_text()\n",
        "    return text\n",
        "\n",
        "pdf_path = \"./fiodor.pdf\"\n",
        "raw_text = extract_text_from_pdf(pdf_path)\n"
      ]
    },
    {
      "cell_type": "code",
      "execution_count": 5,
      "id": "9dde86a3-2931-4bee-92b8-3f65d74d87d3",
      "metadata": {
        "id": "9dde86a3-2931-4bee-92b8-3f65d74d87d3"
      },
      "outputs": [],
      "source": [
        "import re\n",
        "\n",
        "def clean_text(text):\n",
        "    text = text.lower()\n",
        "    text = re.sub(r'\\n+', '\\n', text)  # Unifica saltos de línea\n",
        "    text = re.sub(r'\\s+', ' ', text)  # Elimina espacios extras\n",
        "    text = re.sub(r'\\d+\\s*', '', text)  # Elimina números de página u otros\n",
        "    text = text.strip()\n",
        "    return text\n",
        "\n",
        "cleaned_text = clean_text(raw_text)"
      ]
    },
    {
      "cell_type": "code",
      "execution_count": 6,
      "id": "8a9d5cba-b8c5-4c06-a77e-fef9c9882526",
      "metadata": {
        "colab": {
          "base_uri": "https://localhost:8080/",
          "height": 125
        },
        "id": "8a9d5cba-b8c5-4c06-a77e-fef9c9882526",
        "outputId": "8d6a3ab2-09e3-48f3-a8e2-a06e26cffc70"
      },
      "outputs": [
        {
          "output_type": "execute_result",
          "data": {
            "text/plain": [
              "'crimen y castigo por fedor mikhaïlovitch dostoïevski parte capítulo una tarde extremadamente calurosa de principios de julio, un joven salió de la reducida habitación que tenía alquilada en la callejuela de s y, con paso lento e indeciso, se dirigió al puente k. había tenido la suerte de no encontrarse con su patrona en la escalera. su cuartucho se hallaba bajo el tejado de un gran edificio de cinco pisos y, más que una habitación, parecía una alacena. en cuanto a la patrona, que le había alquilado el cuarto con servicio y pensión, ocupaba un departamento del piso de abajo; de modo que nuestro joven, cada vez que salía, se veía obligado a pasar por delante de la puerta de la cocina, que daba a la escalera y estaba casi siempre abierta de par en par. en esos momentos experimentaba invariablemente una sensación ingrata de vago temor, que le humillaba y daba a su semblante una expresión sombría. debía una cantidad considerable a la patrona y por eso temía encontrarse con ella. no es que f'"
            ],
            "application/vnd.google.colaboratory.intrinsic+json": {
              "type": "string"
            }
          },
          "metadata": {},
          "execution_count": 6
        }
      ],
      "source": [
        "cleaned_text[:1000]"
      ]
    },
    {
      "cell_type": "markdown",
      "id": "f809a185-721e-44ec-aa34-b0bb16c92ea6",
      "metadata": {
        "id": "f809a185-721e-44ec-aa34-b0bb16c92ea6"
      },
      "source": [
        "# Predecir el siguiente caracter"
      ]
    },
    {
      "cell_type": "markdown",
      "id": "a036c63e-3fba-4b73-91d1-bfe1321f644d",
      "metadata": {
        "jp-MarkdownHeadingCollapsed": true,
        "id": "a036c63e-3fba-4b73-91d1-bfe1321f644d"
      },
      "source": [
        "## Crear secuencias de texto para entrenamiento\n",
        "Necesitamos convertir el texto en secuencias que la red LSTM pueda usar. Por ejemplo, para cada 40 caracteres, predecir el siguiente."
      ]
    },
    {
      "cell_type": "code",
      "execution_count": null,
      "id": "5ca7add9-1532-465a-9b0a-f87d98b94a15",
      "metadata": {
        "id": "5ca7add9-1532-465a-9b0a-f87d98b94a15"
      },
      "outputs": [],
      "source": [
        "seq_length = 40\n",
        "step = 3\n",
        "sentences = []\n",
        "next_chars = []\n",
        "\n",
        "for i in range(0, len(cleaned_text) - seq_length, step):\n",
        "    sentences.append(cleaned_text[i: i + seq_length])\n",
        "    next_chars.append(cleaned_text[i + seq_length])\n"
      ]
    },
    {
      "cell_type": "code",
      "execution_count": null,
      "id": "b7d6c204-9cee-4d4b-ae40-a04f1fc36871",
      "metadata": {
        "id": "b7d6c204-9cee-4d4b-ae40-a04f1fc36871",
        "outputId": "ac644f1b-865c-4058-c235-34c17d08ce39"
      },
      "outputs": [
        {
          "data": {
            "text/plain": [
              "['crimen y castigo por fedor mikhaïlovitch',\n",
              " 'men y castigo por fedor mikhaïlovitch do',\n",
              " ' y castigo por fedor mikhaïlovitch dosto',\n",
              " 'castigo por fedor mikhaïlovitch dostoïev',\n",
              " 'tigo por fedor mikhaïlovitch dostoïevski',\n",
              " 'o por fedor mikhaïlovitch dostoïevski pa',\n",
              " 'or fedor mikhaïlovitch dostoïevski parte',\n",
              " 'fedor mikhaïlovitch dostoïevski parte ca',\n",
              " 'or mikhaïlovitch dostoïevski parte capít',\n",
              " 'mikhaïlovitch dostoïevski parte capítulo']"
            ]
          },
          "execution_count": 17,
          "metadata": {},
          "output_type": "execute_result"
        }
      ],
      "source": [
        "sentences[:10]"
      ]
    },
    {
      "cell_type": "code",
      "execution_count": null,
      "id": "b7ff0972-7d26-4b2c-a995-ad57cde5e644",
      "metadata": {
        "id": "b7ff0972-7d26-4b2c-a995-ad57cde5e644",
        "outputId": "3dfad8f0-7015-40bb-8119-51d21bd528c1"
      },
      "outputs": [
        {
          "data": {
            "text/plain": [
              "[' ', 's', 'ï', 's', ' ', 'r', ' ', 'p', 'u', ' ']"
            ]
          },
          "execution_count": 20,
          "metadata": {},
          "output_type": "execute_result"
        }
      ],
      "source": [
        " next_chars[:10]"
      ]
    },
    {
      "cell_type": "markdown",
      "id": "70814489-bb84-4a6c-a049-777facae774d",
      "metadata": {
        "jp-MarkdownHeadingCollapsed": true,
        "id": "70814489-bb84-4a6c-a049-777facae774d"
      },
      "source": [
        "## Vectorizar el texto\n",
        "Convertimos los caracteres a vectores one-hot."
      ]
    },
    {
      "cell_type": "code",
      "execution_count": null,
      "id": "857a096b-b167-4e7c-a9b1-280ba8e74c0d",
      "metadata": {
        "id": "857a096b-b167-4e7c-a9b1-280ba8e74c0d"
      },
      "outputs": [],
      "source": [
        "import numpy as np\n",
        "chars = sorted(list(set(cleaned_text)))\n",
        "char_indices = {c: i for i, c in enumerate(chars)}\n",
        "indices_char = {i: c for i, c in enumerate(chars)}\n",
        "\n",
        "X = np.zeros((len(sentences), seq_length, len(chars)), dtype=np.bool_)\n",
        "y = np.zeros((len(sentences), len(chars)), dtype=np.bool_)\n",
        "\n",
        "for i, sentence in enumerate(sentences):\n",
        "    for t, char in enumerate(sentence):\n",
        "        X[i, t, char_indices[char]] = 1\n",
        "    y[i, char_indices[next_chars[i]]] = 1\n"
      ]
    },
    {
      "cell_type": "code",
      "execution_count": null,
      "id": "8b693a6f-a210-4335-931c-b5307cbce4c5",
      "metadata": {
        "id": "8b693a6f-a210-4335-931c-b5307cbce4c5",
        "outputId": "a1ea59c2-afe9-4d6a-acae-b88c2b7dbe54"
      },
      "outputs": [
        {
          "data": {
            "text/plain": [
              "(403279, 40, 56)"
            ]
          },
          "execution_count": 22,
          "metadata": {},
          "output_type": "execute_result"
        }
      ],
      "source": [
        "X.shape"
      ]
    },
    {
      "cell_type": "code",
      "execution_count": null,
      "id": "dd98e9b0-f047-42a5-bceb-ddf7530bfaf1",
      "metadata": {
        "id": "dd98e9b0-f047-42a5-bceb-ddf7530bfaf1",
        "outputId": "8fb3a90b-739f-4de0-d4c7-1582531995b6"
      },
      "outputs": [
        {
          "data": {
            "text/plain": [
              "array([[False, False, False, False, False, False, False, False, False,\n",
              "        False, False, False, False, False, False,  True, False, False,\n",
              "        False, False, False, False, False, False, False, False, False,\n",
              "        False, False, False, False, False, False, False, False, False,\n",
              "        False, False, False, False, False, False, False, False, False,\n",
              "        False, False, False, False, False, False, False, False, False,\n",
              "        False, False],\n",
              "       [False, False, False, False, False, False, False, False, False,\n",
              "        False, False, False, False, False, False, False, False, False,\n",
              "        False, False, False, False, False, False, False, False, False,\n",
              "        False, False, False,  True, False, False, False, False, False,\n",
              "        False, False, False, False, False, False, False, False, False,\n",
              "        False, False, False, False, False, False, False, False, False,\n",
              "        False, False],\n",
              "       [False, False, False, False, False, False, False, False, False,\n",
              "        False, False, False, False, False, False, False, False, False,\n",
              "        False, False, False,  True, False, False, False, False, False,\n",
              "        False, False, False, False, False, False, False, False, False,\n",
              "        False, False, False, False, False, False, False, False, False,\n",
              "        False, False, False, False, False, False, False, False, False,\n",
              "        False, False]])"
            ]
          },
          "execution_count": 32,
          "metadata": {},
          "output_type": "execute_result"
        }
      ],
      "source": [
        "X[0][0:3][:]"
      ]
    },
    {
      "cell_type": "markdown",
      "id": "c63659c4-260c-4acd-92ab-93bc01ff8270",
      "metadata": {
        "jp-MarkdownHeadingCollapsed": true,
        "id": "c63659c4-260c-4acd-92ab-93bc01ff8270"
      },
      "source": [
        "## Crear el modelo LSTM en Keras"
      ]
    },
    {
      "cell_type": "code",
      "execution_count": null,
      "id": "6d5a917a-8d96-475e-98a2-57403fe1f1f6",
      "metadata": {
        "id": "6d5a917a-8d96-475e-98a2-57403fe1f1f6",
        "outputId": "dcd12460-22e1-42cb-9d21-207c1f028713"
      },
      "outputs": [
        {
          "name": "stderr",
          "output_type": "stream",
          "text": [
            "2025-04-07 14:55:54.308131: I tensorflow/core/platform/cpu_feature_guard.cc:210] This TensorFlow binary is optimized to use available CPU instructions in performance-critical operations.\n",
            "To enable the following instructions: SSE4.1 SSE4.2 AVX AVX2 FMA, in other operations, rebuild TensorFlow with the appropriate compiler flags.\n",
            "//anaconda3/envs/tareaDL/lib/python3.11/site-packages/keras/src/layers/rnn/rnn.py:200: UserWarning: Do not pass an `input_shape`/`input_dim` argument to a layer. When using Sequential models, prefer using an `Input(shape)` object as the first layer in the model instead.\n",
            "  super().__init__(**kwargs)\n"
          ]
        }
      ],
      "source": [
        "from keras.models import Sequential\n",
        "from keras.layers import LSTM, Dense\n",
        "\n",
        "model = Sequential()\n",
        "model.add(LSTM(128, input_shape=(seq_length, len(chars))))\n",
        "model.add(Dense(len(chars), activation='softmax'))\n",
        "\n",
        "model.compile(loss='categorical_crossentropy', optimizer='adam')\n"
      ]
    },
    {
      "cell_type": "code",
      "execution_count": null,
      "id": "276d915b-0499-4548-8427-9eda4d5fad1a",
      "metadata": {
        "id": "276d915b-0499-4548-8427-9eda4d5fad1a",
        "outputId": "53f0c929-3485-4f1d-ec1b-3f33fa6ee07a"
      },
      "outputs": [
        {
          "data": {
            "text/html": [
              "<pre style=\"white-space:pre;overflow-x:auto;line-height:normal;font-family:Menlo,'DejaVu Sans Mono',consolas,'Courier New',monospace\"><span style=\"font-weight: bold\">Model: \"sequential\"</span>\n",
              "</pre>\n"
            ],
            "text/plain": [
              "\u001b[1mModel: \"sequential\"\u001b[0m\n"
            ]
          },
          "metadata": {},
          "output_type": "display_data"
        },
        {
          "data": {
            "text/html": [
              "<pre style=\"white-space:pre;overflow-x:auto;line-height:normal;font-family:Menlo,'DejaVu Sans Mono',consolas,'Courier New',monospace\">┏━━━━━━━━━━━━━━━━━━━━━━━━━━━━━━━━━┳━━━━━━━━━━━━━━━━━━━━━━━━┳━━━━━━━━━━━━━━━┓\n",
              "┃<span style=\"font-weight: bold\"> Layer (type)                    </span>┃<span style=\"font-weight: bold\"> Output Shape           </span>┃<span style=\"font-weight: bold\">       Param # </span>┃\n",
              "┡━━━━━━━━━━━━━━━━━━━━━━━━━━━━━━━━━╇━━━━━━━━━━━━━━━━━━━━━━━━╇━━━━━━━━━━━━━━━┩\n",
              "│ lstm (<span style=\"color: #0087ff; text-decoration-color: #0087ff\">LSTM</span>)                     │ (<span style=\"color: #00d7ff; text-decoration-color: #00d7ff\">None</span>, <span style=\"color: #00af00; text-decoration-color: #00af00\">128</span>)            │        <span style=\"color: #00af00; text-decoration-color: #00af00\">94,720</span> │\n",
              "├─────────────────────────────────┼────────────────────────┼───────────────┤\n",
              "│ dense (<span style=\"color: #0087ff; text-decoration-color: #0087ff\">Dense</span>)                   │ (<span style=\"color: #00d7ff; text-decoration-color: #00d7ff\">None</span>, <span style=\"color: #00af00; text-decoration-color: #00af00\">56</span>)             │         <span style=\"color: #00af00; text-decoration-color: #00af00\">7,224</span> │\n",
              "└─────────────────────────────────┴────────────────────────┴───────────────┘\n",
              "</pre>\n"
            ],
            "text/plain": [
              "┏━━━━━━━━━━━━━━━━━━━━━━━━━━━━━━━━━┳━━━━━━━━━━━━━━━━━━━━━━━━┳━━━━━━━━━━━━━━━┓\n",
              "┃\u001b[1m \u001b[0m\u001b[1mLayer (type)                   \u001b[0m\u001b[1m \u001b[0m┃\u001b[1m \u001b[0m\u001b[1mOutput Shape          \u001b[0m\u001b[1m \u001b[0m┃\u001b[1m \u001b[0m\u001b[1m      Param #\u001b[0m\u001b[1m \u001b[0m┃\n",
              "┡━━━━━━━━━━━━━━━━━━━━━━━━━━━━━━━━━╇━━━━━━━━━━━━━━━━━━━━━━━━╇━━━━━━━━━━━━━━━┩\n",
              "│ lstm (\u001b[38;5;33mLSTM\u001b[0m)                     │ (\u001b[38;5;45mNone\u001b[0m, \u001b[38;5;34m128\u001b[0m)            │        \u001b[38;5;34m94,720\u001b[0m │\n",
              "├─────────────────────────────────┼────────────────────────┼───────────────┤\n",
              "│ dense (\u001b[38;5;33mDense\u001b[0m)                   │ (\u001b[38;5;45mNone\u001b[0m, \u001b[38;5;34m56\u001b[0m)             │         \u001b[38;5;34m7,224\u001b[0m │\n",
              "└─────────────────────────────────┴────────────────────────┴───────────────┘\n"
            ]
          },
          "metadata": {},
          "output_type": "display_data"
        },
        {
          "data": {
            "text/html": [
              "<pre style=\"white-space:pre;overflow-x:auto;line-height:normal;font-family:Menlo,'DejaVu Sans Mono',consolas,'Courier New',monospace\"><span style=\"font-weight: bold\"> Total params: </span><span style=\"color: #00af00; text-decoration-color: #00af00\">101,944</span> (398.22 KB)\n",
              "</pre>\n"
            ],
            "text/plain": [
              "\u001b[1m Total params: \u001b[0m\u001b[38;5;34m101,944\u001b[0m (398.22 KB)\n"
            ]
          },
          "metadata": {},
          "output_type": "display_data"
        },
        {
          "data": {
            "text/html": [
              "<pre style=\"white-space:pre;overflow-x:auto;line-height:normal;font-family:Menlo,'DejaVu Sans Mono',consolas,'Courier New',monospace\"><span style=\"font-weight: bold\"> Trainable params: </span><span style=\"color: #00af00; text-decoration-color: #00af00\">101,944</span> (398.22 KB)\n",
              "</pre>\n"
            ],
            "text/plain": [
              "\u001b[1m Trainable params: \u001b[0m\u001b[38;5;34m101,944\u001b[0m (398.22 KB)\n"
            ]
          },
          "metadata": {},
          "output_type": "display_data"
        },
        {
          "data": {
            "text/html": [
              "<pre style=\"white-space:pre;overflow-x:auto;line-height:normal;font-family:Menlo,'DejaVu Sans Mono',consolas,'Courier New',monospace\"><span style=\"font-weight: bold\"> Non-trainable params: </span><span style=\"color: #00af00; text-decoration-color: #00af00\">0</span> (0.00 B)\n",
              "</pre>\n"
            ],
            "text/plain": [
              "\u001b[1m Non-trainable params: \u001b[0m\u001b[38;5;34m0\u001b[0m (0.00 B)\n"
            ]
          },
          "metadata": {},
          "output_type": "display_data"
        }
      ],
      "source": [
        "model.summary()"
      ]
    },
    {
      "cell_type": "markdown",
      "id": "62661e32-7631-445e-929b-86b387265e3e",
      "metadata": {
        "jp-MarkdownHeadingCollapsed": true,
        "id": "62661e32-7631-445e-929b-86b387265e3e"
      },
      "source": [
        "## Entrenar"
      ]
    },
    {
      "cell_type": "code",
      "execution_count": null,
      "id": "e07689b1-4354-41f2-b2ad-4c442fa8c6e7",
      "metadata": {
        "id": "e07689b1-4354-41f2-b2ad-4c442fa8c6e7",
        "outputId": "720a93de-dd7d-4753-c551-40b1862709dd"
      },
      "outputs": [
        {
          "name": "stdout",
          "output_type": "stream",
          "text": [
            "Epoch 1/20\n",
            "\u001b[1m3151/3151\u001b[0m \u001b[32m━━━━━━━━━━━━━━━━━━━━\u001b[0m\u001b[37m\u001b[0m \u001b[1m144s\u001b[0m 45ms/step - loss: 2.5489\n",
            "Epoch 2/20\n",
            "\u001b[1m3151/3151\u001b[0m \u001b[32m━━━━━━━━━━━━━━━━━━━━\u001b[0m\u001b[37m\u001b[0m \u001b[1m126s\u001b[0m 40ms/step - loss: 1.9590\n",
            "Epoch 3/20\n",
            "\u001b[1m3151/3151\u001b[0m \u001b[32m━━━━━━━━━━━━━━━━━━━━\u001b[0m\u001b[37m\u001b[0m \u001b[1m126s\u001b[0m 40ms/step - loss: 1.8139\n",
            "Epoch 4/20\n",
            "\u001b[1m3151/3151\u001b[0m \u001b[32m━━━━━━━━━━━━━━━━━━━━\u001b[0m\u001b[37m\u001b[0m \u001b[1m126s\u001b[0m 40ms/step - loss: 1.7083\n",
            "Epoch 5/20\n",
            "\u001b[1m3151/3151\u001b[0m \u001b[32m━━━━━━━━━━━━━━━━━━━━\u001b[0m\u001b[37m\u001b[0m \u001b[1m128s\u001b[0m 41ms/step - loss: 1.6320\n",
            "Epoch 6/20\n",
            "\u001b[1m3151/3151\u001b[0m \u001b[32m━━━━━━━━━━━━━━━━━━━━\u001b[0m\u001b[37m\u001b[0m \u001b[1m129s\u001b[0m 41ms/step - loss: 1.5761\n",
            "Epoch 7/20\n",
            "\u001b[1m3151/3151\u001b[0m \u001b[32m━━━━━━━━━━━━━━━━━━━━\u001b[0m\u001b[37m\u001b[0m \u001b[1m129s\u001b[0m 41ms/step - loss: 1.5241\n",
            "Epoch 8/20\n",
            "\u001b[1m3151/3151\u001b[0m \u001b[32m━━━━━━━━━━━━━━━━━━━━\u001b[0m\u001b[37m\u001b[0m \u001b[1m130s\u001b[0m 41ms/step - loss: 1.4872\n",
            "Epoch 9/20\n",
            "\u001b[1m3151/3151\u001b[0m \u001b[32m━━━━━━━━━━━━━━━━━━━━\u001b[0m\u001b[37m\u001b[0m \u001b[1m131s\u001b[0m 42ms/step - loss: 1.4590\n",
            "Epoch 10/20\n",
            "\u001b[1m3151/3151\u001b[0m \u001b[32m━━━━━━━━━━━━━━━━━━━━\u001b[0m\u001b[37m\u001b[0m \u001b[1m133s\u001b[0m 42ms/step - loss: 1.4324\n",
            "Epoch 11/20\n",
            "\u001b[1m3151/3151\u001b[0m \u001b[32m━━━━━━━━━━━━━━━━━━━━\u001b[0m\u001b[37m\u001b[0m \u001b[1m154s\u001b[0m 49ms/step - loss: 1.4050\n",
            "Epoch 12/20\n",
            "\u001b[1m3151/3151\u001b[0m \u001b[32m━━━━━━━━━━━━━━━━━━━━\u001b[0m\u001b[37m\u001b[0m \u001b[1m161s\u001b[0m 51ms/step - loss: 1.3910\n",
            "Epoch 13/20\n",
            "\u001b[1m3151/3151\u001b[0m \u001b[32m━━━━━━━━━━━━━━━━━━━━\u001b[0m\u001b[37m\u001b[0m \u001b[1m167s\u001b[0m 53ms/step - loss: 1.3695\n",
            "Epoch 14/20\n",
            "\u001b[1m3151/3151\u001b[0m \u001b[32m━━━━━━━━━━━━━━━━━━━━\u001b[0m\u001b[37m\u001b[0m \u001b[1m155s\u001b[0m 49ms/step - loss: 1.3552\n",
            "Epoch 15/20\n",
            "\u001b[1m3151/3151\u001b[0m \u001b[32m━━━━━━━━━━━━━━━━━━━━\u001b[0m\u001b[37m\u001b[0m \u001b[1m138s\u001b[0m 44ms/step - loss: 1.3404\n",
            "Epoch 16/20\n",
            "\u001b[1m3151/3151\u001b[0m \u001b[32m━━━━━━━━━━━━━━━━━━━━\u001b[0m\u001b[37m\u001b[0m \u001b[1m138s\u001b[0m 44ms/step - loss: 1.3281\n",
            "Epoch 17/20\n",
            "\u001b[1m3151/3151\u001b[0m \u001b[32m━━━━━━━━━━━━━━━━━━━━\u001b[0m\u001b[37m\u001b[0m \u001b[1m141s\u001b[0m 45ms/step - loss: 1.3173\n",
            "Epoch 18/20\n",
            "\u001b[1m3151/3151\u001b[0m \u001b[32m━━━━━━━━━━━━━━━━━━━━\u001b[0m\u001b[37m\u001b[0m \u001b[1m143s\u001b[0m 45ms/step - loss: 1.3068\n",
            "Epoch 19/20\n",
            "\u001b[1m3151/3151\u001b[0m \u001b[32m━━━━━━━━━━━━━━━━━━━━\u001b[0m\u001b[37m\u001b[0m \u001b[1m147s\u001b[0m 47ms/step - loss: 1.2994\n",
            "Epoch 20/20\n",
            "\u001b[1m3151/3151\u001b[0m \u001b[32m━━━━━━━━━━━━━━━━━━━━\u001b[0m\u001b[37m\u001b[0m \u001b[1m150s\u001b[0m 47ms/step - loss: 1.2910\n"
          ]
        },
        {
          "data": {
            "text/plain": [
              "<keras.src.callbacks.history.History at 0x1a0c80a90>"
            ]
          },
          "execution_count": 9,
          "metadata": {},
          "output_type": "execute_result"
        }
      ],
      "source": [
        "model.fit(X, y, batch_size=128, epochs=20)\n"
      ]
    },
    {
      "cell_type": "code",
      "execution_count": null,
      "id": "4fde3175-f6f7-4153-b8a1-162ff904529e",
      "metadata": {
        "id": "4fde3175-f6f7-4153-b8a1-162ff904529e"
      },
      "outputs": [],
      "source": [
        "model.save(\"./lstm1.keras\")"
      ]
    },
    {
      "cell_type": "code",
      "execution_count": null,
      "id": "58ee6aeb-531a-481e-9af4-0b46767c1204",
      "metadata": {
        "id": "58ee6aeb-531a-481e-9af4-0b46767c1204",
        "outputId": "c58e4a8f-7066-4cbe-cacd-4af41d9dabed"
      },
      "outputs": [
        {
          "data": {
            "text/plain": [
              "56"
            ]
          },
          "execution_count": 33,
          "metadata": {},
          "output_type": "execute_result"
        }
      ],
      "source": [
        "len(chars)"
      ]
    },
    {
      "cell_type": "code",
      "execution_count": null,
      "id": "94e67526-741e-4080-8d8b-b59c731c8097",
      "metadata": {
        "id": "94e67526-741e-4080-8d8b-b59c731c8097",
        "outputId": "ccf555bf-be93-4e4c-c2e6-9ddcbf42659f"
      },
      "outputs": [
        {
          "name": "stdout",
          "output_type": "stream",
          "text": [
            "40\n"
          ]
        }
      ],
      "source": [
        "frase = \"quiero encontrar algo que valga la pena \"\n",
        "print(len(frase))"
      ]
    },
    {
      "cell_type": "code",
      "execution_count": null,
      "id": "cd54322d-ee6b-4c3f-b9f9-b4667c7385f2",
      "metadata": {
        "id": "cd54322d-ee6b-4c3f-b9f9-b4667c7385f2"
      },
      "outputs": [],
      "source": [
        "def autoregresion(frase_inicial):\n",
        "    frase_oh = np.zeros((seq_length, len(chars)), dtype=np.bool_)\n",
        "    for t, char in enumerate(frase_inicial):\n",
        "        frase_oh[t, char_indices[char]] = 1\n",
        "    frase_oh = np.expand_dims(frase_oh,axis = 0)\n",
        "    result = model.predict(frase_oh)\n",
        "    return indices_char[np.argmax(result[0])]"
      ]
    },
    {
      "cell_type": "code",
      "execution_count": null,
      "id": "9101c004-f11b-4b42-86fa-05c28eb6d36e",
      "metadata": {
        "id": "9101c004-f11b-4b42-86fa-05c28eb6d36e",
        "outputId": "b8c4e9a9-ccaa-42e6-e3bd-7c254ac5d990"
      },
      "outputs": [
        {
          "name": "stdout",
          "output_type": "stream",
          "text": [
            "\u001b[1m1/1\u001b[0m \u001b[32m━━━━━━━━━━━━━━━━━━━━\u001b[0m\u001b[37m\u001b[0m \u001b[1m0s\u001b[0m 53ms/step\n",
            "a\n",
            "\u001b[1m1/1\u001b[0m \u001b[32m━━━━━━━━━━━━━━━━━━━━\u001b[0m\u001b[37m\u001b[0m \u001b[1m0s\u001b[0m 63ms/step\n",
            "i\n",
            "\u001b[1m1/1\u001b[0m \u001b[32m━━━━━━━━━━━━━━━━━━━━\u001b[0m\u001b[37m\u001b[0m \u001b[1m0s\u001b[0m 45ms/step\n",
            "a\n",
            "\u001b[1m1/1\u001b[0m \u001b[32m━━━━━━━━━━━━━━━━━━━━\u001b[0m\u001b[37m\u001b[0m \u001b[1m0s\u001b[0m 43ms/step\n",
            " \n",
            "\u001b[1m1/1\u001b[0m \u001b[32m━━━━━━━━━━━━━━━━━━━━\u001b[0m\u001b[37m\u001b[0m \u001b[1m0s\u001b[0m 44ms/step\n",
            "o\n",
            "aia o\n"
          ]
        }
      ],
      "source": [
        "pred_word = \"\"\n",
        "for i in range(5):\n",
        "    nueva_letra = autoregresion(frase)\n",
        "    print(nueva_letra)\n",
        "    frase = frase[1:]\n",
        "    frase+= nueva_letra\n",
        "    pred_word+= nueva_letra\n",
        "print(pred_word)"
      ]
    },
    {
      "cell_type": "markdown",
      "id": "c6c87f93-6fd4-48cc-8ef1-6d08a9323b37",
      "metadata": {
        "id": "c6c87f93-6fd4-48cc-8ef1-6d08a9323b37"
      },
      "source": [
        "# Predecir el siguiente token"
      ]
    },
    {
      "cell_type": "code",
      "execution_count": 7,
      "id": "c37939b0-60d2-42db-a969-0386404a7cfd",
      "metadata": {
        "id": "c37939b0-60d2-42db-a969-0386404a7cfd"
      },
      "outputs": [],
      "source": [
        "from tensorflow.keras.preprocessing.text import Tokenizer\n",
        "from tensorflow.keras.preprocessing.sequence import pad_sequences"
      ]
    },
    {
      "cell_type": "code",
      "execution_count": 30,
      "id": "1cd66a13-a4b5-4220-a2b1-a4c256ad3952",
      "metadata": {
        "scrolled": true,
        "id": "1cd66a13-a4b5-4220-a2b1-a4c256ad3952"
      },
      "outputs": [],
      "source": [
        "tokenizer = Tokenizer(num_words=limit_vocab, oov_token=\"<OOV>\")\n",
        "tokenizer.fit_on_texts([cleaned_text])\n",
        "\n",
        "# Secuencia entera de tokens\n",
        "sequence = tokenizer.texts_to_sequences([cleaned_text])[0]\n",
        "#vocab_size = len(tokenizer.word_index) + 1  # +1 por el token 0\n",
        "limit_vocab = int(len(tokenizer.word_index)*0.3)\n",
        "vocab_size = limit_vocab +1"
      ]
    },
    {
      "cell_type": "code",
      "execution_count": 31,
      "id": "ce59d131-6399-4881-a65f-8df7be0c48dc",
      "metadata": {
        "colab": {
          "base_uri": "https://localhost:8080/"
        },
        "id": "ce59d131-6399-4881-a65f-8df7be0c48dc",
        "outputId": "7d00f043-f34b-4a38-91a6-0ed6eea882e8"
      },
      "outputs": [
        {
          "output_type": "stream",
          "name": "stdout",
          "text": [
            "vocab_size:  5811\n",
            "tokenizer.word_index:  19368\n",
            "tamaño sequence:  206322\n"
          ]
        }
      ],
      "source": [
        "print(\"vocab_size: \",vocab_size)\n",
        "print(\"tokenizer.word_index: \",len(tokenizer.word_index))\n",
        "print(\"tamaño sequence: \",len(sequence))"
      ]
    },
    {
      "cell_type": "code",
      "execution_count": 32,
      "id": "e05f493a-1874-44c4-ac31-398074615cde",
      "metadata": {
        "scrolled": true,
        "id": "e05f493a-1874-44c4-ac31-398074615cde"
      },
      "outputs": [],
      "source": [
        "import numpy as np\n",
        "\n",
        "sequence_sample = sequence[:int(len(sequence)*0.1)]\n",
        "\n",
        "seq_length = 5  # número de tokens de entrada\n",
        "X = []\n",
        "y = []\n",
        "\n",
        "for i in range(seq_length, len(sequence_sample)):\n",
        "    input_seq = sequence_sample[i - seq_length:i]\n",
        "    target = sequence_sample[i]\n",
        "    X.append(input_seq)\n",
        "    y.append(target)\n",
        "\n",
        "X = np.array(X)\n",
        "y = np.array(y)\n"
      ]
    },
    {
      "cell_type": "code",
      "execution_count": null,
      "id": "dcc372ad-962e-4492-856d-85f35ee4b6d8",
      "metadata": {
        "id": "dcc372ad-962e-4492-856d-85f35ee4b6d8"
      },
      "outputs": [],
      "source": [
        "# Convertir etiquetas a one-hot\n",
        "#from tensorflow.keras.utils import to_categorical\n",
        "#y = to_categorical(y, num_classes=vocab_size)"
      ]
    },
    {
      "cell_type": "markdown",
      "id": "7f255b03-1589-46f4-b7e2-93915dc9ad54",
      "metadata": {
        "id": "7f255b03-1589-46f4-b7e2-93915dc9ad54"
      },
      "source": [
        "## Modelo"
      ]
    },
    {
      "cell_type": "code",
      "execution_count": 33,
      "id": "33811576-f8c9-4e53-8a4c-677406f638c3",
      "metadata": {
        "colab": {
          "base_uri": "https://localhost:8080/",
          "height": 260
        },
        "id": "33811576-f8c9-4e53-8a4c-677406f638c3",
        "outputId": "976bea27-be5c-481d-fa3d-684bf7eb3912"
      },
      "outputs": [
        {
          "output_type": "stream",
          "name": "stderr",
          "text": [
            "/usr/local/lib/python3.11/dist-packages/keras/src/layers/core/embedding.py:90: UserWarning: Argument `input_length` is deprecated. Just remove it.\n",
            "  warnings.warn(\n"
          ]
        },
        {
          "output_type": "display_data",
          "data": {
            "text/plain": [
              "\u001b[1mModel: \"sequential_2\"\u001b[0m\n"
            ],
            "text/html": [
              "<pre style=\"white-space:pre;overflow-x:auto;line-height:normal;font-family:Menlo,'DejaVu Sans Mono',consolas,'Courier New',monospace\"><span style=\"font-weight: bold\">Model: \"sequential_2\"</span>\n",
              "</pre>\n"
            ]
          },
          "metadata": {}
        },
        {
          "output_type": "display_data",
          "data": {
            "text/plain": [
              "┏━━━━━━━━━━━━━━━━━━━━━━━━━━━━━━━━━┳━━━━━━━━━━━━━━━━━━━━━━━━┳━━━━━━━━━━━━━━━┓\n",
              "┃\u001b[1m \u001b[0m\u001b[1mLayer (type)                   \u001b[0m\u001b[1m \u001b[0m┃\u001b[1m \u001b[0m\u001b[1mOutput Shape          \u001b[0m\u001b[1m \u001b[0m┃\u001b[1m \u001b[0m\u001b[1m      Param #\u001b[0m\u001b[1m \u001b[0m┃\n",
              "┡━━━━━━━━━━━━━━━━━━━━━━━━━━━━━━━━━╇━━━━━━━━━━━━━━━━━━━━━━━━╇━━━━━━━━━━━━━━━┩\n",
              "│ embedding_2 (\u001b[38;5;33mEmbedding\u001b[0m)         │ ?                      │   \u001b[38;5;34m0\u001b[0m (unbuilt) │\n",
              "├─────────────────────────────────┼────────────────────────┼───────────────┤\n",
              "│ lstm_2 (\u001b[38;5;33mLSTM\u001b[0m)                   │ ?                      │   \u001b[38;5;34m0\u001b[0m (unbuilt) │\n",
              "├─────────────────────────────────┼────────────────────────┼───────────────┤\n",
              "│ dense_2 (\u001b[38;5;33mDense\u001b[0m)                 │ ?                      │   \u001b[38;5;34m0\u001b[0m (unbuilt) │\n",
              "└─────────────────────────────────┴────────────────────────┴───────────────┘\n"
            ],
            "text/html": [
              "<pre style=\"white-space:pre;overflow-x:auto;line-height:normal;font-family:Menlo,'DejaVu Sans Mono',consolas,'Courier New',monospace\">┏━━━━━━━━━━━━━━━━━━━━━━━━━━━━━━━━━┳━━━━━━━━━━━━━━━━━━━━━━━━┳━━━━━━━━━━━━━━━┓\n",
              "┃<span style=\"font-weight: bold\"> Layer (type)                    </span>┃<span style=\"font-weight: bold\"> Output Shape           </span>┃<span style=\"font-weight: bold\">       Param # </span>┃\n",
              "┡━━━━━━━━━━━━━━━━━━━━━━━━━━━━━━━━━╇━━━━━━━━━━━━━━━━━━━━━━━━╇━━━━━━━━━━━━━━━┩\n",
              "│ embedding_2 (<span style=\"color: #0087ff; text-decoration-color: #0087ff\">Embedding</span>)         │ ?                      │   <span style=\"color: #00af00; text-decoration-color: #00af00\">0</span> (unbuilt) │\n",
              "├─────────────────────────────────┼────────────────────────┼───────────────┤\n",
              "│ lstm_2 (<span style=\"color: #0087ff; text-decoration-color: #0087ff\">LSTM</span>)                   │ ?                      │   <span style=\"color: #00af00; text-decoration-color: #00af00\">0</span> (unbuilt) │\n",
              "├─────────────────────────────────┼────────────────────────┼───────────────┤\n",
              "│ dense_2 (<span style=\"color: #0087ff; text-decoration-color: #0087ff\">Dense</span>)                 │ ?                      │   <span style=\"color: #00af00; text-decoration-color: #00af00\">0</span> (unbuilt) │\n",
              "└─────────────────────────────────┴────────────────────────┴───────────────┘\n",
              "</pre>\n"
            ]
          },
          "metadata": {}
        },
        {
          "output_type": "display_data",
          "data": {
            "text/plain": [
              "\u001b[1m Total params: \u001b[0m\u001b[38;5;34m0\u001b[0m (0.00 B)\n"
            ],
            "text/html": [
              "<pre style=\"white-space:pre;overflow-x:auto;line-height:normal;font-family:Menlo,'DejaVu Sans Mono',consolas,'Courier New',monospace\"><span style=\"font-weight: bold\"> Total params: </span><span style=\"color: #00af00; text-decoration-color: #00af00\">0</span> (0.00 B)\n",
              "</pre>\n"
            ]
          },
          "metadata": {}
        },
        {
          "output_type": "display_data",
          "data": {
            "text/plain": [
              "\u001b[1m Trainable params: \u001b[0m\u001b[38;5;34m0\u001b[0m (0.00 B)\n"
            ],
            "text/html": [
              "<pre style=\"white-space:pre;overflow-x:auto;line-height:normal;font-family:Menlo,'DejaVu Sans Mono',consolas,'Courier New',monospace\"><span style=\"font-weight: bold\"> Trainable params: </span><span style=\"color: #00af00; text-decoration-color: #00af00\">0</span> (0.00 B)\n",
              "</pre>\n"
            ]
          },
          "metadata": {}
        },
        {
          "output_type": "display_data",
          "data": {
            "text/plain": [
              "\u001b[1m Non-trainable params: \u001b[0m\u001b[38;5;34m0\u001b[0m (0.00 B)\n"
            ],
            "text/html": [
              "<pre style=\"white-space:pre;overflow-x:auto;line-height:normal;font-family:Menlo,'DejaVu Sans Mono',consolas,'Courier New',monospace\"><span style=\"font-weight: bold\"> Non-trainable params: </span><span style=\"color: #00af00; text-decoration-color: #00af00\">0</span> (0.00 B)\n",
              "</pre>\n"
            ]
          },
          "metadata": {}
        }
      ],
      "source": [
        "from tensorflow.keras.models import Sequential\n",
        "from tensorflow.keras.layers import Embedding, LSTM, Dense\n",
        "\n",
        "modelo = Sequential()\n",
        "modelo.add(Embedding(input_dim=vocab_size, output_dim=64, input_length=seq_length))\n",
        "modelo.add(LSTM(64))\n",
        "modelo.add(Dense(vocab_size, activation='softmax'))\n",
        "\n",
        "modelo.compile(loss='sparse_categorical_crossentropy', optimizer='adam', metrics=['accuracy'])\n",
        "modelo.summary()\n",
        "\n"
      ]
    },
    {
      "cell_type": "code",
      "execution_count": 34,
      "id": "dc6bb5dc-dd29-4185-a5c9-c04a0b28304f",
      "metadata": {
        "colab": {
          "base_uri": "https://localhost:8080/"
        },
        "id": "dc6bb5dc-dd29-4185-a5c9-c04a0b28304f",
        "outputId": "1fde654c-6d3c-4bc9-c507-1395d3de7672"
      },
      "outputs": [
        {
          "output_type": "stream",
          "name": "stdout",
          "text": [
            "(20627, 5) (20627,)\n"
          ]
        }
      ],
      "source": [
        "print(X.shape, y.shape)"
      ]
    },
    {
      "cell_type": "markdown",
      "id": "1d614d16-53a6-4ad3-aacc-57d0cbe1b919",
      "metadata": {
        "id": "1d614d16-53a6-4ad3-aacc-57d0cbe1b919"
      },
      "source": [
        "## Entrenamiento\n"
      ]
    },
    {
      "cell_type": "code",
      "execution_count": 35,
      "id": "ba2f7a7e-e078-4ce4-b9e5-823646d7ef4a",
      "metadata": {
        "colab": {
          "base_uri": "https://localhost:8080/"
        },
        "id": "ba2f7a7e-e078-4ce4-b9e5-823646d7ef4a",
        "outputId": "258a0472-b39d-4fff-e17f-36341814e629"
      },
      "outputs": [
        {
          "output_type": "stream",
          "name": "stdout",
          "text": [
            "Epoch 1/30\n",
            "\u001b[1m1290/1290\u001b[0m \u001b[32m━━━━━━━━━━━━━━━━━━━━\u001b[0m\u001b[37m\u001b[0m \u001b[1m25s\u001b[0m 17ms/step - accuracy: 0.0899 - loss: 6.7454\n",
            "Epoch 2/30\n",
            "\u001b[1m1290/1290\u001b[0m \u001b[32m━━━━━━━━━━━━━━━━━━━━\u001b[0m\u001b[37m\u001b[0m \u001b[1m41s\u001b[0m 17ms/step - accuracy: 0.0941 - loss: 5.8890\n",
            "Epoch 3/30\n",
            "\u001b[1m1290/1290\u001b[0m \u001b[32m━━━━━━━━━━━━━━━━━━━━\u001b[0m\u001b[37m\u001b[0m \u001b[1m20s\u001b[0m 16ms/step - accuracy: 0.1039 - loss: 5.7118\n",
            "Epoch 4/30\n",
            "\u001b[1m1290/1290\u001b[0m \u001b[32m━━━━━━━━━━━━━━━━━━━━\u001b[0m\u001b[37m\u001b[0m \u001b[1m21s\u001b[0m 17ms/step - accuracy: 0.1109 - loss: 5.5704\n",
            "Epoch 5/30\n",
            "\u001b[1m1290/1290\u001b[0m \u001b[32m━━━━━━━━━━━━━━━━━━━━\u001b[0m\u001b[37m\u001b[0m \u001b[1m21s\u001b[0m 16ms/step - accuracy: 0.1159 - loss: 5.3720\n",
            "Epoch 6/30\n",
            "\u001b[1m1290/1290\u001b[0m \u001b[32m━━━━━━━━━━━━━━━━━━━━\u001b[0m\u001b[37m\u001b[0m \u001b[1m41s\u001b[0m 16ms/step - accuracy: 0.1273 - loss: 5.1898\n",
            "Epoch 7/30\n",
            "\u001b[1m1290/1290\u001b[0m \u001b[32m━━━━━━━━━━━━━━━━━━━━\u001b[0m\u001b[37m\u001b[0m \u001b[1m21s\u001b[0m 16ms/step - accuracy: 0.1393 - loss: 5.0012\n",
            "Epoch 8/30\n",
            "\u001b[1m1290/1290\u001b[0m \u001b[32m━━━━━━━━━━━━━━━━━━━━\u001b[0m\u001b[37m\u001b[0m \u001b[1m21s\u001b[0m 16ms/step - accuracy: 0.1503 - loss: 4.7878\n",
            "Epoch 9/30\n",
            "\u001b[1m1290/1290\u001b[0m \u001b[32m━━━━━━━━━━━━━━━━━━━━\u001b[0m\u001b[37m\u001b[0m \u001b[1m22s\u001b[0m 17ms/step - accuracy: 0.1647 - loss: 4.5754\n",
            "Epoch 10/30\n",
            "\u001b[1m1290/1290\u001b[0m \u001b[32m━━━━━━━━━━━━━━━━━━━━\u001b[0m\u001b[37m\u001b[0m \u001b[1m41s\u001b[0m 17ms/step - accuracy: 0.1774 - loss: 4.3821\n",
            "Epoch 11/30\n",
            "\u001b[1m1290/1290\u001b[0m \u001b[32m━━━━━━━━━━━━━━━━━━━━\u001b[0m\u001b[37m\u001b[0m \u001b[1m42s\u001b[0m 18ms/step - accuracy: 0.1940 - loss: 4.2031\n",
            "Epoch 12/30\n",
            "\u001b[1m1290/1290\u001b[0m \u001b[32m━━━━━━━━━━━━━━━━━━━━\u001b[0m\u001b[37m\u001b[0m \u001b[1m22s\u001b[0m 17ms/step - accuracy: 0.2066 - loss: 4.0221\n",
            "Epoch 13/30\n",
            "\u001b[1m1290/1290\u001b[0m \u001b[32m━━━━━━━━━━━━━━━━━━━━\u001b[0m\u001b[37m\u001b[0m \u001b[1m40s\u001b[0m 16ms/step - accuracy: 0.2362 - loss: 3.8030\n",
            "Epoch 14/30\n",
            "\u001b[1m1290/1290\u001b[0m \u001b[32m━━━━━━━━━━━━━━━━━━━━\u001b[0m\u001b[37m\u001b[0m \u001b[1m22s\u001b[0m 17ms/step - accuracy: 0.2622 - loss: 3.6116\n",
            "Epoch 15/30\n",
            "\u001b[1m1290/1290\u001b[0m \u001b[32m━━━━━━━━━━━━━━━━━━━━\u001b[0m\u001b[37m\u001b[0m \u001b[1m40s\u001b[0m 16ms/step - accuracy: 0.2815 - loss: 3.4740\n",
            "Epoch 16/30\n",
            "\u001b[1m1290/1290\u001b[0m \u001b[32m━━━━━━━━━━━━━━━━━━━━\u001b[0m\u001b[37m\u001b[0m \u001b[1m22s\u001b[0m 17ms/step - accuracy: 0.3055 - loss: 3.3106\n",
            "Epoch 17/30\n",
            "\u001b[1m1290/1290\u001b[0m \u001b[32m━━━━━━━━━━━━━━━━━━━━\u001b[0m\u001b[37m\u001b[0m \u001b[1m23s\u001b[0m 18ms/step - accuracy: 0.3443 - loss: 3.0909\n",
            "Epoch 18/30\n",
            "\u001b[1m1290/1290\u001b[0m \u001b[32m━━━━━━━━━━━━━━━━━━━━\u001b[0m\u001b[37m\u001b[0m \u001b[1m22s\u001b[0m 17ms/step - accuracy: 0.3682 - loss: 2.9600\n",
            "Epoch 19/30\n",
            "\u001b[1m1290/1290\u001b[0m \u001b[32m━━━━━━━━━━━━━━━━━━━━\u001b[0m\u001b[37m\u001b[0m \u001b[1m41s\u001b[0m 17ms/step - accuracy: 0.4035 - loss: 2.7963\n",
            "Epoch 20/30\n",
            "\u001b[1m1290/1290\u001b[0m \u001b[32m━━━━━━━━━━━━━━━━━━━━\u001b[0m\u001b[37m\u001b[0m \u001b[1m40s\u001b[0m 16ms/step - accuracy: 0.4348 - loss: 2.6432\n",
            "Epoch 21/30\n",
            "\u001b[1m1290/1290\u001b[0m \u001b[32m━━━━━━━━━━━━━━━━━━━━\u001b[0m\u001b[37m\u001b[0m \u001b[1m22s\u001b[0m 17ms/step - accuracy: 0.4610 - loss: 2.5014\n",
            "Epoch 22/30\n",
            "\u001b[1m1290/1290\u001b[0m \u001b[32m━━━━━━━━━━━━━━━━━━━━\u001b[0m\u001b[37m\u001b[0m \u001b[1m20s\u001b[0m 15ms/step - accuracy: 0.4966 - loss: 2.3484\n",
            "Epoch 23/30\n",
            "\u001b[1m1290/1290\u001b[0m \u001b[32m━━━━━━━━━━━━━━━━━━━━\u001b[0m\u001b[37m\u001b[0m \u001b[1m22s\u001b[0m 16ms/step - accuracy: 0.5192 - loss: 2.2270\n",
            "Epoch 24/30\n",
            "\u001b[1m1290/1290\u001b[0m \u001b[32m━━━━━━━━━━━━━━━━━━━━\u001b[0m\u001b[37m\u001b[0m \u001b[1m40s\u001b[0m 16ms/step - accuracy: 0.5534 - loss: 2.0912\n",
            "Epoch 25/30\n",
            "\u001b[1m1290/1290\u001b[0m \u001b[32m━━━━━━━━━━━━━━━━━━━━\u001b[0m\u001b[37m\u001b[0m \u001b[1m42s\u001b[0m 17ms/step - accuracy: 0.5769 - loss: 1.9670\n",
            "Epoch 26/30\n",
            "\u001b[1m1290/1290\u001b[0m \u001b[32m━━━━━━━━━━━━━━━━━━━━\u001b[0m\u001b[37m\u001b[0m \u001b[1m40s\u001b[0m 16ms/step - accuracy: 0.5989 - loss: 1.8682\n",
            "Epoch 27/30\n",
            "\u001b[1m1290/1290\u001b[0m \u001b[32m━━━━━━━━━━━━━━━━━━━━\u001b[0m\u001b[37m\u001b[0m \u001b[1m41s\u001b[0m 17ms/step - accuracy: 0.6294 - loss: 1.7346\n",
            "Epoch 28/30\n",
            "\u001b[1m1290/1290\u001b[0m \u001b[32m━━━━━━━━━━━━━━━━━━━━\u001b[0m\u001b[37m\u001b[0m \u001b[1m21s\u001b[0m 17ms/step - accuracy: 0.6431 - loss: 1.6724\n",
            "Epoch 29/30\n",
            "\u001b[1m1290/1290\u001b[0m \u001b[32m━━━━━━━━━━━━━━━━━━━━\u001b[0m\u001b[37m\u001b[0m \u001b[1m41s\u001b[0m 17ms/step - accuracy: 0.6748 - loss: 1.5519\n",
            "Epoch 30/30\n",
            "\u001b[1m1290/1290\u001b[0m \u001b[32m━━━━━━━━━━━━━━━━━━━━\u001b[0m\u001b[37m\u001b[0m \u001b[1m44s\u001b[0m 19ms/step - accuracy: 0.6955 - loss: 1.4517\n"
          ]
        }
      ],
      "source": [
        "history = modelo.fit(X, y, epochs=30,batch_size=16, verbose=1)"
      ]
    },
    {
      "cell_type": "code",
      "source": [
        "modelo.save(\"./lstm_words1.keras\")"
      ],
      "metadata": {
        "id": "lVgU6yY0-Crb"
      },
      "id": "lVgU6yY0-Crb",
      "execution_count": 47,
      "outputs": []
    },
    {
      "cell_type": "code",
      "execution_count": 24,
      "id": "6e83db64-5af5-4d82-a020-b422790effa9",
      "metadata": {
        "id": "6e83db64-5af5-4d82-a020-b422790effa9"
      },
      "outputs": [],
      "source": [
        "import random\n",
        "\n",
        "def generate_text(seed_text, n_words, tokenizer, seq_length):\n",
        "    result = []\n",
        "    in_text = seed_text\n",
        "\n",
        "    for _ in range(n_words):\n",
        "        encoded = tokenizer.texts_to_sequences([in_text])[0]\n",
        "        encoded = encoded[-seq_length:]  # asegurarse de que tenga el tamaño correcto\n",
        "        padded = np.pad(encoded, (seq_length - len(encoded), 0), 'constant')\n",
        "        padded = padded.reshape(1, -1)\n",
        "\n",
        "        y_pred = modelo.predict(padded, verbose=0)\n",
        "        predicted = np.argmax(y_pred)\n",
        "\n",
        "        out_word = tokenizer.index_word.get(predicted, '')\n",
        "        in_text += ' ' + out_word\n",
        "        result.append(out_word)\n",
        "\n",
        "    return ' '.join(result)\n"
      ]
    },
    {
      "cell_type": "markdown",
      "source": [
        "frase cualquiera para probar"
      ],
      "metadata": {
        "id": "WcNT9Yjg9jS4"
      },
      "id": "WcNT9Yjg9jS4"
    },
    {
      "cell_type": "code",
      "execution_count": 36,
      "id": "5eef42c2-9fee-47c6-ae1f-9ae6a718c9c6",
      "metadata": {
        "colab": {
          "base_uri": "https://localhost:8080/"
        },
        "id": "5eef42c2-9fee-47c6-ae1f-9ae6a718c9c6",
        "outputId": "c1af056d-4bb9-492f-9a26-6360b81d8ad4"
      },
      "outputs": [
        {
          "output_type": "stream",
          "name": "stdout",
          "text": [
            "lado <OOV> <OOV> a cobrar la solicitud de su <OOV> la esposa para <OOV> en un <OOV> <OOV> y hacía\n"
          ]
        }
      ],
      "source": [
        "seed = \"el hombre miró al\"\n",
        "print(generate_text(seed, 20, tokenizer, seq_length=5))\n"
      ]
    },
    {
      "cell_type": "markdown",
      "source": [
        "Una frase del texto: \"Su cuartucho se hallaba\""
      ],
      "metadata": {
        "id": "8xCrvCn49q4k"
      },
      "id": "8xCrvCn49q4k"
    },
    {
      "cell_type": "code",
      "source": [
        "seed = \"Su cuartucho se hallaba\"\n",
        "print(generate_text(seed, 20, tokenizer, seq_length=5))"
      ],
      "metadata": {
        "colab": {
          "base_uri": "https://localhost:8080/"
        },
        "id": "mMbTLv_i9RtI",
        "outputId": "86f5f47b-0fd9-4b20-df6f-f001759cf01f"
      },
      "id": "mMbTLv_i9RtI",
      "execution_count": 45,
      "outputs": [
        {
          "output_type": "stream",
          "name": "stdout",
          "text": [
            "bajo el <OOV> de <OOV> si no se propone gracias a su influencia sobre su futuro esposo influencia que no\n"
          ]
        }
      ]
    },
    {
      "cell_type": "markdown",
      "source": [
        "acierta en las dos primeras palabras \"bajo\" y \"el\""
      ],
      "metadata": {
        "id": "5-LhIBXK9zwX"
      },
      "id": "5-LhIBXK9zwX"
    },
    {
      "cell_type": "code",
      "source": [
        "print(history.history.keys())"
      ],
      "metadata": {
        "colab": {
          "base_uri": "https://localhost:8080/"
        },
        "id": "3QRF6vm-8Ui5",
        "outputId": "f89b4b2b-62db-440b-8e89-b48170423b44"
      },
      "id": "3QRF6vm-8Ui5",
      "execution_count": 37,
      "outputs": [
        {
          "output_type": "stream",
          "name": "stdout",
          "text": [
            "dict_keys(['accuracy', 'loss'])\n"
          ]
        }
      ]
    },
    {
      "cell_type": "code",
      "source": [
        "import matplotlib.pyplot as plt\n",
        "plt.plot(history.history['accuracy'],label= \"accuracy\")\n",
        "plt.plot(history.history['loss'],label = \"loss\",color=\"red\")\n",
        "plt.title('model history')\n",
        "plt.ylabel('accuracy/loss')\n",
        "plt.xlabel('epoch')\n",
        "plt.legend()\n",
        "plt.show()"
      ],
      "metadata": {
        "colab": {
          "base_uri": "https://localhost:8080/",
          "height": 472
        },
        "id": "cjD9w4qg8Vi3",
        "outputId": "9ac1350c-5982-4476-f591-8082ae66f55b"
      },
      "id": "cjD9w4qg8Vi3",
      "execution_count": 44,
      "outputs": [
        {
          "output_type": "display_data",
          "data": {
            "text/plain": [
              "<Figure size 640x480 with 1 Axes>"
            ],
            "image/png": "[encoded data removed]"
          },
          "metadata": {}
        }
      ]
    },
    {
      "cell_type": "code",
      "source": [
        "new_model = tf.keras.models.load_model('saved_model/my_model')\n",
        "\n",
        "new_model.summary()\n",
        "\n",
        "loss, acc = new_model.evaluate(test_images, test_labels, verbose=2)\n",
        "print('Restored model, accuracy: {:5.2f}%'.format(100 * acc))\n",
        "\n",
        "print(new_model.predict(test_images).shape)"
      ],
      "metadata": {
        "id": "E96uUNYt-fvb"
      },
      "id": "E96uUNYt-fvb",
      "execution_count": null,
      "outputs": []
    }
  ],
  "metadata": {
    "kernelspec": {
      "display_name": "Python 3 (ipykernel)",
      "language": "python",
      "name": "python3"
    },
    "language_info": {
      "codemirror_mode": {
        "name": "ipython",
        "version": 3
      },
      "file_extension": ".py",
      "mimetype": "text/x-python",
      "name": "python",
      "nbconvert_exporter": "python",
      "pygments_lexer": "ipython3",
      "version": "3.11.11"
    },
    "colab": {
      "provenance": []
    }
  },
  "nbformat": 4,
  "nbformat_minor": 5
}